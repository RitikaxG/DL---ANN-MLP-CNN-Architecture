{
 "cells": [
  {
   "cell_type": "markdown",
   "id": "772ed88f",
   "metadata": {},
   "source": [
    "### Creating the following model\n",
    "\n",
    "![Layered Architecture](Layered_Architecture.png)"
   ]
  },
  {
   "cell_type": "code",
   "execution_count": 3,
   "id": "d59bd886",
   "metadata": {},
   "outputs": [],
   "source": [
    "import numpy as np"
   ]
  },
  {
   "cell_type": "code",
   "execution_count": 4,
   "id": "565a1711",
   "metadata": {},
   "outputs": [],
   "source": [
    "input_size = 3 # no of input features\n",
    "layers = [3,2] # no of neurons in 1st and 2nd hidden layer\n",
    "output_size = 2 # no of neurons in output layer"
   ]
  },
  {
   "cell_type": "code",
   "execution_count": 5,
   "id": "c4543b0a",
   "metadata": {},
   "outputs": [],
   "source": [
    "class NeuralNetwork:\n",
    "    def _init__(self,input_size,layers,output_size):\n",
    "        np.random.seed(0)\n",
    "        \n",
    "        model = {} # Dictionary\n",
    "        # Defining weights\n",
    "        # Weight Matrix : Random matrix of size 3*3\n",
    "        model['w1'] = np.random.randn(input_size,layers[0])\n",
    "        # Bias Term : Contain the bias for all 3 neurons\n",
    "        model['b1'] = np.zeros(1,layers[0])\n",
    "        \n",
    "        # Random weight matrix of sixe 3*2\n",
    "        model['w2'] = np.random.randn(layers[0],layers[1])\n",
    "        model['b2'] = np.zeros(1,layers[1])\n",
    "    \n",
    "        # Random weight matrix of size 2*2\n",
    "        model['w3'] = np.random.randn(layers[1],output_size)\n",
    "        model['b3'] = np.zeros(1,output_size)\n",
    "        \n",
    "        self.model = model"
   ]
  },
  {
   "cell_type": "code",
   "execution_count": 6,
   "id": "1afc1800",
   "metadata": {},
   "outputs": [
    {
     "name": "stdout",
     "output_type": "stream",
     "text": [
      "[[ 0.37974374  0.35671221 -0.49994357]\n",
      " [-0.96762615  1.71442259  0.29481265]\n",
      " [-1.02779057  0.82662994  0.31123093]]\n"
     ]
    }
   ],
   "source": [
    "w1 = np.random.randn(input_size,layers[0])\n",
    "print(w1)"
   ]
  },
  {
   "cell_type": "code",
   "execution_count": null,
   "id": "302c553d",
   "metadata": {},
   "outputs": [],
   "source": []
  }
 ],
 "metadata": {
  "kernelspec": {
   "display_name": "Python 3 (ipykernel)",
   "language": "python",
   "name": "python3"
  },
  "language_info": {
   "codemirror_mode": {
    "name": "ipython",
    "version": 3
   },
   "file_extension": ".py",
   "mimetype": "text/x-python",
   "name": "python",
   "nbconvert_exporter": "python",
   "pygments_lexer": "ipython3",
   "version": "3.11.5"
  }
 },
 "nbformat": 4,
 "nbformat_minor": 5
}
